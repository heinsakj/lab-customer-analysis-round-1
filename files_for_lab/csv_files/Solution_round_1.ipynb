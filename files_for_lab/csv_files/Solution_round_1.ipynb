{
 "cells": [
  {
   "cell_type": "code",
   "execution_count": 1,
   "id": "400070c8",
   "metadata": {},
   "outputs": [],
   "source": [
    "# Exercise 1 - read files into python\n",
    "\n",
    "import pandas as pd\n",
    "\n",
    "file1= pd.read_csv('file1.csv')\n",
    "file2= pd.read_csv('file2.csv')\n",
    "file3= pd.read_csv('file3.csv')"
   ]
  },
  {
   "cell_type": "code",
   "execution_count": 2,
   "id": "23e097c5",
   "metadata": {},
   "outputs": [
    {
     "data": {
      "text/plain": [
       "(4008, 11)"
      ]
     },
     "metadata": {},
     "output_type": "display_data"
    },
    {
     "data": {
      "text/plain": [
       "(996, 11)"
      ]
     },
     "metadata": {},
     "output_type": "display_data"
    },
    {
     "data": {
      "text/plain": [
       "(7070, 11)"
      ]
     },
     "metadata": {},
     "output_type": "display_data"
    }
   ],
   "source": [
    "# Exercise 2 - show the Dataframes shapes\n",
    "\n",
    "display(file1.shape)\n",
    "display(file2.shape)\n",
    "display(file3.shape)"
   ]
  },
  {
   "cell_type": "code",
   "execution_count": 3,
   "id": "9d931dcd",
   "metadata": {},
   "outputs": [
    {
     "data": {
      "text/plain": [
       "Index(['Customer', 'ST', 'GENDER', 'Education', 'Customer Lifetime Value',\n",
       "       'Income', 'Monthly Premium Auto', 'Number of Open Complaints',\n",
       "       'Policy Type', 'Vehicle Class', 'Total Claim Amount'],\n",
       "      dtype='object')"
      ]
     },
     "metadata": {},
     "output_type": "display_data"
    },
    {
     "data": {
      "text/plain": [
       "Index(['Customer', 'ST', 'GENDER', 'Education', 'Customer Lifetime Value',\n",
       "       'Income', 'Monthly Premium Auto', 'Number of Open Complaints',\n",
       "       'Total Claim Amount', 'Policy Type', 'Vehicle Class'],\n",
       "      dtype='object')"
      ]
     },
     "metadata": {},
     "output_type": "display_data"
    },
    {
     "data": {
      "text/plain": [
       "Index(['Customer', 'State', 'Customer Lifetime Value', 'Education', 'Gender',\n",
       "       'Income', 'Monthly Premium Auto', 'Number of Open Complaints',\n",
       "       'Policy Type', 'Total Claim Amount', 'Vehicle Class'],\n",
       "      dtype='object')"
      ]
     },
     "metadata": {},
     "output_type": "display_data"
    },
    {
     "name": "stdout",
     "output_type": "stream",
     "text": [
      "Index(['customer', 'st', 'gender', 'education', 'customer lifetime value',\n",
      "       'income', 'monthly premium auto', 'number of open complaints',\n",
      "       'policy type', 'vehicle class', 'total claim amount'],\n",
      "      dtype='object')\n",
      "Index(['customer', 'st', 'gender', 'education', 'customer lifetime value',\n",
      "       'income', 'monthly premium auto', 'number of open complaints',\n",
      "       'total claim amount', 'policy type', 'vehicle class'],\n",
      "      dtype='object')\n",
      "Index(['customer', 'state', 'customer lifetime value', 'education', 'gender',\n",
      "       'income', 'monthly premium auto', 'number of open complaints',\n",
      "       'policy type', 'total claim amount', 'vehicle class'],\n",
      "      dtype='object')\n"
     ]
    }
   ],
   "source": [
    "# Exercise 3 - standardize the header names\n",
    "\n",
    "# First look at the different header names by using the column function\n",
    "display(file1.columns)\n",
    "display(file2.columns)\n",
    "display(file3.columns)\n",
    "\n",
    "# Decide to put everything in lower cases\n",
    "# For file 1\n",
    "cols1 = []\n",
    "for column in file1.columns:\n",
    "    cols1.append(column.lower()) #add the new column with lower cases into the list\n",
    "cols1 #show the list of cols\n",
    "file1.columns = cols1\n",
    "print(file1.columns)\n",
    "\n",
    "# For file 2\n",
    "cols2 = []\n",
    "for column in file2.columns:\n",
    "    cols2.append(column.lower()) #add the new column with lower cases into the list\n",
    "cols2 #show the list of cols\n",
    "file2.columns = cols2\n",
    "print(file2.columns)\n",
    "\n",
    "# For file 3\n",
    "cols3 = []\n",
    "for column in file3.columns:\n",
    "    cols3.append(column.lower()) #add the new column with lower cases into the list\n",
    "cols3 #show the list of cols\n",
    "file3.columns = cols3\n",
    "print(file3.columns)"
   ]
  },
  {
   "cell_type": "code",
   "execution_count": 4,
   "id": "4f76dcfc",
   "metadata": {},
   "outputs": [],
   "source": [
    "# Exercise 4 - rearrange the columns in the dataframe\n",
    "\n",
    "# We will use the order of the file1 for all the other files\n",
    "# For file2 it is easy we can just use the same words\n",
    "# file2 = file2[file1.columns] - decides that we will take the file1 columns and translate them to file2\n",
    "file2 = file2[['customer', 'st', 'gender', 'education', 'customer lifetime value',\n",
    "       'income', 'monthly premium auto', 'number of open complaints',\n",
    "       'policy type', 'vehicle class', 'total claim amount']]\n",
    "\n",
    "# For file3 we first have to rename some variables\n",
    "file3 = file3.rename(columns={'state':'st'}) #if i want to make a change - save it in a variable that is overwritten, data.rename means we need to provide a dictionary, keys are the old column names, values are the new column names\n",
    "# Now sort\n",
    "file3 = file3[['customer', 'st', 'gender', 'education', 'customer lifetime value',\n",
    "       'income', 'monthly premium auto', 'number of open complaints',\n",
    "       'policy type', 'vehicle class', 'total claim amount']]"
   ]
  },
  {
   "cell_type": "code",
   "execution_count": 5,
   "id": "9f664875",
   "metadata": {},
   "outputs": [
    {
     "name": "stdout",
     "output_type": "stream",
     "text": [
      "0               NaN\n",
      "1        697953.59%\n",
      "2       1288743.17%\n",
      "3        764586.18%\n",
      "4        536307.65%\n",
      "           ...     \n",
      "4003            NaN\n",
      "4004            NaN\n",
      "4005            NaN\n",
      "4006            NaN\n",
      "4007            NaN\n",
      "Name: customer lifetime value, Length: 4008, dtype: object\n",
      "0              NaN\n",
      "1        6979.5359\n",
      "2       12887.4317\n",
      "3        7645.8618\n",
      "4        5363.0765\n",
      "           ...    \n",
      "4003           NaN\n",
      "4004           NaN\n",
      "4005           NaN\n",
      "4006           NaN\n",
      "4007           NaN\n",
      "Name: customer lifetime value, Length: 4008, dtype: float64\n",
      "0       3239.1247\n",
      "1       4626.8011\n",
      "2       8997.0402\n",
      "3      25807.0630\n",
      "4       3808.1221\n",
      "          ...    \n",
      "991     8471.4175\n",
      "992     5431.2191\n",
      "993     5689.6441\n",
      "994     3686.7238\n",
      "995     3992.5839\n",
      "Name: customer lifetime value, Length: 996, dtype: float64\n"
     ]
    }
   ],
   "source": [
    "# Exercise 9b Outtake - correct the values in the customer lifetime value for file 1 and file 2\n",
    "# FIRST check the types - .dtypes \n",
    "#file 1\n",
    "print(file1['customer lifetime value'])\n",
    "\n",
    "#force the dtype to be numeric\n",
    "file1['customer lifetime value'] = file1['customer lifetime value'].str.rstrip(\"%\").astype(float)/100\n",
    "print(file1['customer lifetime value'])\n",
    "\n",
    "#file 2\n",
    "file2['customer lifetime value'] = file2['customer lifetime value'].str.rstrip(\"%\").astype(float)/100\n",
    "print(file2['customer lifetime value'])\n"
   ]
  },
  {
   "cell_type": "code",
   "execution_count": 6,
   "id": "ee19c4f7",
   "metadata": {},
   "outputs": [
    {
     "name": "stdout",
     "output_type": "stream",
     "text": [
      "(12074, 11)\n"
     ]
    },
    {
     "data": {
      "text/plain": [
       "customer                     2937\n",
       "st                           2937\n",
       "gender                       3059\n",
       "education                    2937\n",
       "customer lifetime value      2944\n",
       "income                       2937\n",
       "monthly premium auto         2937\n",
       "number of open complaints    2937\n",
       "policy type                  2937\n",
       "vehicle class                2937\n",
       "total claim amount           2937\n",
       "dtype: int64"
      ]
     },
     "metadata": {},
     "output_type": "display_data"
    }
   ],
   "source": [
    "# Exercise 5 - Concatenate the three dataframes\n",
    "\n",
    "data = pd.concat([file1,file2,file3], axis = 0)\n",
    "print(data.shape)\n",
    "\n",
    "#Also check the NA columns\n",
    "display(data.isna().sum())"
   ]
  },
  {
   "cell_type": "code",
   "execution_count": 7,
   "id": "ba04ee01",
   "metadata": {},
   "outputs": [
    {
     "data": {
      "text/plain": [
       "Index(['customer lifetime value', 'income', 'monthly premium auto',\n",
       "       'total claim amount'],\n",
       "      dtype='object')"
      ]
     },
     "execution_count": 7,
     "metadata": {},
     "output_type": "execute_result"
    }
   ],
   "source": [
    "# Exercise 6 - numerical columns - add .columns to only see the columns and not the whole dataframe\n",
    "\n",
    "data._get_numeric_data().columns"
   ]
  },
  {
   "cell_type": "code",
   "execution_count": 8,
   "id": "4be68249",
   "metadata": {},
   "outputs": [
    {
     "data": {
      "text/plain": [
       "Index(['customer', 'st', 'gender', 'education', 'number of open complaints',\n",
       "       'policy type', 'vehicle class'],\n",
       "      dtype='object')"
      ]
     },
     "execution_count": 8,
     "metadata": {},
     "output_type": "execute_result"
    }
   ],
   "source": [
    "# Exercise 7 - categorical columns\n",
    "\n",
    "data.select_dtypes('object').columns"
   ]
  },
  {
   "cell_type": "code",
   "execution_count": 9,
   "id": "49a24db2",
   "metadata": {},
   "outputs": [
    {
     "data": {
      "text/plain": [
       "customer                      object\n",
       "st                            object\n",
       "gender                        object\n",
       "education                     object\n",
       "customer lifetime value      float64\n",
       "income                       float64\n",
       "monthly premium auto         float64\n",
       "number of open complaints     object\n",
       "policy type                   object\n",
       "vehicle class                 object\n",
       "total claim amount           float64\n",
       "dtype: object"
      ]
     },
     "metadata": {},
     "output_type": "display_data"
    },
    {
     "data": {
      "text/plain": [
       "customer                     2937\n",
       "st                           2937\n",
       "gender                       3059\n",
       "education                    2937\n",
       "customer lifetime value      2944\n",
       "income                       2937\n",
       "monthly premium auto         2937\n",
       "number of open complaints    2937\n",
       "policy type                  2937\n",
       "vehicle class                2937\n",
       "total claim amount           2937\n",
       "dtype: int64"
      ]
     },
     "metadata": {},
     "output_type": "display_data"
    }
   ],
   "source": [
    "# Exercise 8 - understand the meaning of all columns\n",
    "display(data.dtypes)\n",
    "display(data.isna().sum())"
   ]
  },
  {
   "cell_type": "code",
   "execution_count": 10,
   "id": "9345d206",
   "metadata": {},
   "outputs": [
    {
     "data": {
      "text/html": [
       "<div>\n",
       "<style scoped>\n",
       "    .dataframe tbody tr th:only-of-type {\n",
       "        vertical-align: middle;\n",
       "    }\n",
       "\n",
       "    .dataframe tbody tr th {\n",
       "        vertical-align: top;\n",
       "    }\n",
       "\n",
       "    .dataframe thead th {\n",
       "        text-align: right;\n",
       "    }\n",
       "</style>\n",
       "<table border=\"1\" class=\"dataframe\">\n",
       "  <thead>\n",
       "    <tr style=\"text-align: right;\">\n",
       "      <th></th>\n",
       "      <th>customer</th>\n",
       "      <th>st</th>\n",
       "      <th>gender</th>\n",
       "      <th>customer lifetime value</th>\n",
       "      <th>income</th>\n",
       "      <th>monthly premium auto</th>\n",
       "      <th>policy type</th>\n",
       "      <th>vehicle class</th>\n",
       "      <th>total claim amount</th>\n",
       "    </tr>\n",
       "  </thead>\n",
       "  <tbody>\n",
       "    <tr>\n",
       "      <th>0</th>\n",
       "      <td>RB50392</td>\n",
       "      <td>Washington</td>\n",
       "      <td>NaN</td>\n",
       "      <td>NaN</td>\n",
       "      <td>0.0</td>\n",
       "      <td>1000.0</td>\n",
       "      <td>Personal Auto</td>\n",
       "      <td>Four-Door Car</td>\n",
       "      <td>2.704934</td>\n",
       "    </tr>\n",
       "    <tr>\n",
       "      <th>1</th>\n",
       "      <td>QZ44356</td>\n",
       "      <td>Arizona</td>\n",
       "      <td>F</td>\n",
       "      <td>6979.535900</td>\n",
       "      <td>0.0</td>\n",
       "      <td>94.0</td>\n",
       "      <td>Personal Auto</td>\n",
       "      <td>Four-Door Car</td>\n",
       "      <td>1131.464935</td>\n",
       "    </tr>\n",
       "    <tr>\n",
       "      <th>2</th>\n",
       "      <td>AI49188</td>\n",
       "      <td>Nevada</td>\n",
       "      <td>F</td>\n",
       "      <td>12887.431700</td>\n",
       "      <td>48767.0</td>\n",
       "      <td>108.0</td>\n",
       "      <td>Personal Auto</td>\n",
       "      <td>Two-Door Car</td>\n",
       "      <td>566.472247</td>\n",
       "    </tr>\n",
       "    <tr>\n",
       "      <th>3</th>\n",
       "      <td>WW63253</td>\n",
       "      <td>California</td>\n",
       "      <td>M</td>\n",
       "      <td>7645.861800</td>\n",
       "      <td>0.0</td>\n",
       "      <td>106.0</td>\n",
       "      <td>Corporate Auto</td>\n",
       "      <td>SUV</td>\n",
       "      <td>529.881344</td>\n",
       "    </tr>\n",
       "    <tr>\n",
       "      <th>4</th>\n",
       "      <td>GA49547</td>\n",
       "      <td>Washington</td>\n",
       "      <td>M</td>\n",
       "      <td>5363.076500</td>\n",
       "      <td>36357.0</td>\n",
       "      <td>68.0</td>\n",
       "      <td>Personal Auto</td>\n",
       "      <td>Four-Door Car</td>\n",
       "      <td>17.269323</td>\n",
       "    </tr>\n",
       "    <tr>\n",
       "      <th>...</th>\n",
       "      <td>...</td>\n",
       "      <td>...</td>\n",
       "      <td>...</td>\n",
       "      <td>...</td>\n",
       "      <td>...</td>\n",
       "      <td>...</td>\n",
       "      <td>...</td>\n",
       "      <td>...</td>\n",
       "      <td>...</td>\n",
       "    </tr>\n",
       "    <tr>\n",
       "      <th>7065</th>\n",
       "      <td>LA72316</td>\n",
       "      <td>California</td>\n",
       "      <td>M</td>\n",
       "      <td>23405.987980</td>\n",
       "      <td>71941.0</td>\n",
       "      <td>73.0</td>\n",
       "      <td>Personal Auto</td>\n",
       "      <td>Four-Door Car</td>\n",
       "      <td>198.234764</td>\n",
       "    </tr>\n",
       "    <tr>\n",
       "      <th>7066</th>\n",
       "      <td>PK87824</td>\n",
       "      <td>California</td>\n",
       "      <td>F</td>\n",
       "      <td>3096.511217</td>\n",
       "      <td>21604.0</td>\n",
       "      <td>79.0</td>\n",
       "      <td>Corporate Auto</td>\n",
       "      <td>Four-Door Car</td>\n",
       "      <td>379.200000</td>\n",
       "    </tr>\n",
       "    <tr>\n",
       "      <th>7067</th>\n",
       "      <td>TD14365</td>\n",
       "      <td>California</td>\n",
       "      <td>M</td>\n",
       "      <td>8163.890428</td>\n",
       "      <td>0.0</td>\n",
       "      <td>85.0</td>\n",
       "      <td>Corporate Auto</td>\n",
       "      <td>Four-Door Car</td>\n",
       "      <td>790.784983</td>\n",
       "    </tr>\n",
       "    <tr>\n",
       "      <th>7068</th>\n",
       "      <td>UP19263</td>\n",
       "      <td>California</td>\n",
       "      <td>M</td>\n",
       "      <td>7524.442436</td>\n",
       "      <td>21941.0</td>\n",
       "      <td>96.0</td>\n",
       "      <td>Personal Auto</td>\n",
       "      <td>Four-Door Car</td>\n",
       "      <td>691.200000</td>\n",
       "    </tr>\n",
       "    <tr>\n",
       "      <th>7069</th>\n",
       "      <td>Y167826</td>\n",
       "      <td>California</td>\n",
       "      <td>M</td>\n",
       "      <td>2611.836866</td>\n",
       "      <td>0.0</td>\n",
       "      <td>77.0</td>\n",
       "      <td>Corporate Auto</td>\n",
       "      <td>Two-Door Car</td>\n",
       "      <td>369.600000</td>\n",
       "    </tr>\n",
       "  </tbody>\n",
       "</table>\n",
       "<p>12074 rows × 9 columns</p>\n",
       "</div>"
      ],
      "text/plain": [
       "     customer          st gender  customer lifetime value   income  \\\n",
       "0     RB50392  Washington    NaN                      NaN      0.0   \n",
       "1     QZ44356     Arizona      F              6979.535900      0.0   \n",
       "2     AI49188      Nevada      F             12887.431700  48767.0   \n",
       "3     WW63253  California      M              7645.861800      0.0   \n",
       "4     GA49547  Washington      M              5363.076500  36357.0   \n",
       "...       ...         ...    ...                      ...      ...   \n",
       "7065  LA72316  California      M             23405.987980  71941.0   \n",
       "7066  PK87824  California      F              3096.511217  21604.0   \n",
       "7067  TD14365  California      M              8163.890428      0.0   \n",
       "7068  UP19263  California      M              7524.442436  21941.0   \n",
       "7069  Y167826  California      M              2611.836866      0.0   \n",
       "\n",
       "      monthly premium auto     policy type  vehicle class  total claim amount  \n",
       "0                   1000.0   Personal Auto  Four-Door Car            2.704934  \n",
       "1                     94.0   Personal Auto  Four-Door Car         1131.464935  \n",
       "2                    108.0   Personal Auto   Two-Door Car          566.472247  \n",
       "3                    106.0  Corporate Auto            SUV          529.881344  \n",
       "4                     68.0   Personal Auto  Four-Door Car           17.269323  \n",
       "...                    ...             ...            ...                 ...  \n",
       "7065                  73.0   Personal Auto  Four-Door Car          198.234764  \n",
       "7066                  79.0  Corporate Auto  Four-Door Car          379.200000  \n",
       "7067                  85.0  Corporate Auto  Four-Door Car          790.784983  \n",
       "7068                  96.0   Personal Auto  Four-Door Car          691.200000  \n",
       "7069                  77.0  Corporate Auto   Two-Door Car          369.600000  \n",
       "\n",
       "[12074 rows x 9 columns]"
      ]
     },
     "metadata": {},
     "output_type": "display_data"
    }
   ],
   "source": [
    "# Exercise 9a - Delete the column education and open complaints\n",
    "\n",
    "data = data.drop(['education', 'number of open complaints'], axis = 1) #I can also drop customer because each value is unique and will not help us\n",
    "display(data)"
   ]
  },
  {
   "cell_type": "code",
   "execution_count": 11,
   "id": "d09b199a",
   "metadata": {},
   "outputs": [
    {
     "name": "stdout",
     "output_type": "stream",
     "text": [
      "(12074, 9)\n",
      "(9135, 9)\n",
      "     customer          st gender  customer lifetime value   income  \\\n",
      "0     RB50392  Washington    NaN                      NaN      0.0   \n",
      "1     QZ44356     Arizona      F              6979.535900      0.0   \n",
      "2     AI49188      Nevada      F             12887.431700  48767.0   \n",
      "3     WW63253  California      M              7645.861800      0.0   \n",
      "4     GA49547  Washington      M              5363.076500  36357.0   \n",
      "...       ...         ...    ...                      ...      ...   \n",
      "7065  LA72316  California      M             23405.987980  71941.0   \n",
      "7066  PK87824  California      F              3096.511217  21604.0   \n",
      "7067  TD14365  California      M              8163.890428      0.0   \n",
      "7068  UP19263  California      M              7524.442436  21941.0   \n",
      "7069  Y167826  California      M              2611.836866      0.0   \n",
      "\n",
      "      monthly premium auto     policy type  vehicle class  total claim amount  \n",
      "0                   1000.0   Personal Auto  Four-Door Car            2.704934  \n",
      "1                     94.0   Personal Auto  Four-Door Car         1131.464935  \n",
      "2                    108.0   Personal Auto   Two-Door Car          566.472247  \n",
      "3                    106.0  Corporate Auto            SUV          529.881344  \n",
      "4                     68.0   Personal Auto  Four-Door Car           17.269323  \n",
      "...                    ...             ...            ...                 ...  \n",
      "7065                  73.0   Personal Auto  Four-Door Car          198.234764  \n",
      "7066                  79.0  Corporate Auto  Four-Door Car          379.200000  \n",
      "7067                  85.0  Corporate Auto  Four-Door Car          790.784983  \n",
      "7068                  96.0   Personal Auto  Four-Door Car          691.200000  \n",
      "7069                  77.0  Corporate Auto   Two-Door Car          369.600000  \n",
      "\n",
      "[9135 rows x 9 columns]\n"
     ]
    }
   ],
   "source": [
    "# Exercise 9c - check for duplicate rows and remove them\n",
    "\n",
    "print(data.shape)\n",
    "data_copy = data.copy()\n",
    "data_copy = data_copy.drop_duplicates()\n",
    "print(data_copy.shape)\n",
    "data = data_copy\n",
    "print(data)"
   ]
  },
  {
   "cell_type": "code",
   "execution_count": 12,
   "id": "d8ce950c",
   "metadata": {},
   "outputs": [
    {
     "data": {
      "text/html": [
       "<div>\n",
       "<style scoped>\n",
       "    .dataframe tbody tr th:only-of-type {\n",
       "        vertical-align: middle;\n",
       "    }\n",
       "\n",
       "    .dataframe tbody tr th {\n",
       "        vertical-align: top;\n",
       "    }\n",
       "\n",
       "    .dataframe thead th {\n",
       "        text-align: right;\n",
       "    }\n",
       "</style>\n",
       "<table border=\"1\" class=\"dataframe\">\n",
       "  <thead>\n",
       "    <tr style=\"text-align: right;\">\n",
       "      <th></th>\n",
       "      <th>customer</th>\n",
       "      <th>st</th>\n",
       "      <th>gender</th>\n",
       "      <th>customer lifetime value</th>\n",
       "      <th>income</th>\n",
       "      <th>monthly premium auto</th>\n",
       "      <th>policy type</th>\n",
       "      <th>vehicle class</th>\n",
       "      <th>total claim amount</th>\n",
       "    </tr>\n",
       "  </thead>\n",
       "  <tbody>\n",
       "    <tr>\n",
       "      <th>2</th>\n",
       "      <td>AI49188</td>\n",
       "      <td>Nevada</td>\n",
       "      <td>F</td>\n",
       "      <td>12887.431700</td>\n",
       "      <td>48767.0</td>\n",
       "      <td>108.0</td>\n",
       "      <td>Personal Auto</td>\n",
       "      <td>Two-Door Car</td>\n",
       "      <td>566.472247</td>\n",
       "    </tr>\n",
       "    <tr>\n",
       "      <th>4</th>\n",
       "      <td>GA49547</td>\n",
       "      <td>Washington</td>\n",
       "      <td>M</td>\n",
       "      <td>5363.076500</td>\n",
       "      <td>36357.0</td>\n",
       "      <td>68.0</td>\n",
       "      <td>Personal Auto</td>\n",
       "      <td>Four-Door Car</td>\n",
       "      <td>17.269323</td>\n",
       "    </tr>\n",
       "    <tr>\n",
       "      <th>5</th>\n",
       "      <td>OC83172</td>\n",
       "      <td>Oregon</td>\n",
       "      <td>F</td>\n",
       "      <td>8256.297800</td>\n",
       "      <td>62902.0</td>\n",
       "      <td>69.0</td>\n",
       "      <td>Personal Auto</td>\n",
       "      <td>Two-Door Car</td>\n",
       "      <td>159.383042</td>\n",
       "    </tr>\n",
       "    <tr>\n",
       "      <th>6</th>\n",
       "      <td>XZ87318</td>\n",
       "      <td>Oregon</td>\n",
       "      <td>F</td>\n",
       "      <td>5380.898600</td>\n",
       "      <td>55350.0</td>\n",
       "      <td>67.0</td>\n",
       "      <td>Corporate Auto</td>\n",
       "      <td>Four-Door Car</td>\n",
       "      <td>321.600000</td>\n",
       "    </tr>\n",
       "    <tr>\n",
       "      <th>8</th>\n",
       "      <td>DY87989</td>\n",
       "      <td>Oregon</td>\n",
       "      <td>M</td>\n",
       "      <td>24127.504000</td>\n",
       "      <td>14072.0</td>\n",
       "      <td>71.0</td>\n",
       "      <td>Corporate Auto</td>\n",
       "      <td>Four-Door Car</td>\n",
       "      <td>511.200000</td>\n",
       "    </tr>\n",
       "    <tr>\n",
       "      <th>...</th>\n",
       "      <td>...</td>\n",
       "      <td>...</td>\n",
       "      <td>...</td>\n",
       "      <td>...</td>\n",
       "      <td>...</td>\n",
       "      <td>...</td>\n",
       "      <td>...</td>\n",
       "      <td>...</td>\n",
       "      <td>...</td>\n",
       "    </tr>\n",
       "    <tr>\n",
       "      <th>7063</th>\n",
       "      <td>TF56202</td>\n",
       "      <td>California</td>\n",
       "      <td>M</td>\n",
       "      <td>5032.165498</td>\n",
       "      <td>66367.0</td>\n",
       "      <td>64.0</td>\n",
       "      <td>Personal Auto</td>\n",
       "      <td>Two-Door Car</td>\n",
       "      <td>307.200000</td>\n",
       "    </tr>\n",
       "    <tr>\n",
       "      <th>7064</th>\n",
       "      <td>YM19146</td>\n",
       "      <td>California</td>\n",
       "      <td>F</td>\n",
       "      <td>4100.398533</td>\n",
       "      <td>47761.0</td>\n",
       "      <td>104.0</td>\n",
       "      <td>Personal Auto</td>\n",
       "      <td>Four-Door Car</td>\n",
       "      <td>541.282007</td>\n",
       "    </tr>\n",
       "    <tr>\n",
       "      <th>7065</th>\n",
       "      <td>LA72316</td>\n",
       "      <td>California</td>\n",
       "      <td>M</td>\n",
       "      <td>23405.987980</td>\n",
       "      <td>71941.0</td>\n",
       "      <td>73.0</td>\n",
       "      <td>Personal Auto</td>\n",
       "      <td>Four-Door Car</td>\n",
       "      <td>198.234764</td>\n",
       "    </tr>\n",
       "    <tr>\n",
       "      <th>7066</th>\n",
       "      <td>PK87824</td>\n",
       "      <td>California</td>\n",
       "      <td>F</td>\n",
       "      <td>3096.511217</td>\n",
       "      <td>21604.0</td>\n",
       "      <td>79.0</td>\n",
       "      <td>Corporate Auto</td>\n",
       "      <td>Four-Door Car</td>\n",
       "      <td>379.200000</td>\n",
       "    </tr>\n",
       "    <tr>\n",
       "      <th>7068</th>\n",
       "      <td>UP19263</td>\n",
       "      <td>California</td>\n",
       "      <td>M</td>\n",
       "      <td>7524.442436</td>\n",
       "      <td>21941.0</td>\n",
       "      <td>96.0</td>\n",
       "      <td>Personal Auto</td>\n",
       "      <td>Four-Door Car</td>\n",
       "      <td>691.200000</td>\n",
       "    </tr>\n",
       "  </tbody>\n",
       "</table>\n",
       "<p>6840 rows × 9 columns</p>\n",
       "</div>"
      ],
      "text/plain": [
       "     customer          st gender  customer lifetime value   income  \\\n",
       "2     AI49188      Nevada      F             12887.431700  48767.0   \n",
       "4     GA49547  Washington      M              5363.076500  36357.0   \n",
       "5     OC83172      Oregon      F              8256.297800  62902.0   \n",
       "6     XZ87318      Oregon      F              5380.898600  55350.0   \n",
       "8     DY87989      Oregon      M             24127.504000  14072.0   \n",
       "...       ...         ...    ...                      ...      ...   \n",
       "7063  TF56202  California      M              5032.165498  66367.0   \n",
       "7064  YM19146  California      F              4100.398533  47761.0   \n",
       "7065  LA72316  California      M             23405.987980  71941.0   \n",
       "7066  PK87824  California      F              3096.511217  21604.0   \n",
       "7068  UP19263  California      M              7524.442436  21941.0   \n",
       "\n",
       "      monthly premium auto     policy type  vehicle class  total claim amount  \n",
       "2                    108.0   Personal Auto   Two-Door Car          566.472247  \n",
       "4                     68.0   Personal Auto  Four-Door Car           17.269323  \n",
       "5                     69.0   Personal Auto   Two-Door Car          159.383042  \n",
       "6                     67.0  Corporate Auto  Four-Door Car          321.600000  \n",
       "8                     71.0  Corporate Auto  Four-Door Car          511.200000  \n",
       "...                    ...             ...            ...                 ...  \n",
       "7063                  64.0   Personal Auto   Two-Door Car          307.200000  \n",
       "7064                 104.0   Personal Auto  Four-Door Car          541.282007  \n",
       "7065                  73.0   Personal Auto  Four-Door Car          198.234764  \n",
       "7066                  79.0  Corporate Auto  Four-Door Car          379.200000  \n",
       "7068                  96.0   Personal Auto  Four-Door Car          691.200000  \n",
       "\n",
       "[6840 rows x 9 columns]"
      ]
     },
     "execution_count": 12,
     "metadata": {},
     "output_type": "execute_result"
    }
   ],
   "source": [
    "# Exercise 9d - filter out the data for customers who have an income of <0 - show only people with a positive income\n",
    "\n",
    "data[data['income'] > 0]"
   ]
  },
  {
   "cell_type": "code",
   "execution_count": null,
   "id": "96c88e23",
   "metadata": {},
   "outputs": [],
   "source": []
  }
 ],
 "metadata": {
  "kernelspec": {
   "display_name": "Python 3 (ipykernel)",
   "language": "python",
   "name": "python3"
  },
  "language_info": {
   "codemirror_mode": {
    "name": "ipython",
    "version": 3
   },
   "file_extension": ".py",
   "mimetype": "text/x-python",
   "name": "python",
   "nbconvert_exporter": "python",
   "pygments_lexer": "ipython3",
   "version": "3.9.13"
  }
 },
 "nbformat": 4,
 "nbformat_minor": 5
}
